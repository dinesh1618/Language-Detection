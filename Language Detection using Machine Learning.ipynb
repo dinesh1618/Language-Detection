{
 "cells": [
  {
   "cell_type": "code",
   "execution_count": 3,
   "id": "7cd59e30",
   "metadata": {},
   "outputs": [],
   "source": [
    "import pandas as pd\n",
    "import numpy as np\n",
    "import re"
   ]
  },
  {
   "cell_type": "code",
   "execution_count": 24,
   "id": "6754e034",
   "metadata": {},
   "outputs": [],
   "source": [
    "import matplotlib.pyplot as plt\n",
    "import seaborn as sns"
   ]
  },
  {
   "cell_type": "code",
   "execution_count": null,
   "id": "320d08c8",
   "metadata": {},
   "outputs": [],
   "source": []
  },
  {
   "cell_type": "code",
   "execution_count": null,
   "id": "676d4360",
   "metadata": {},
   "outputs": [],
   "source": []
  },
  {
   "cell_type": "code",
   "execution_count": null,
   "id": "2efc8ad9",
   "metadata": {},
   "outputs": [],
   "source": []
  },
  {
   "cell_type": "code",
   "execution_count": 5,
   "id": "066b57a4",
   "metadata": {},
   "outputs": [],
   "source": [
    "df = pd.read_csv(r\"C:\\Users\\dines\\Downloads\\archive (1)\\Language Detection.csv\")"
   ]
  },
  {
   "cell_type": "code",
   "execution_count": 6,
   "id": "7e4e87e7",
   "metadata": {},
   "outputs": [
    {
     "data": {
      "text/html": [
       "<div>\n",
       "<style scoped>\n",
       "    .dataframe tbody tr th:only-of-type {\n",
       "        vertical-align: middle;\n",
       "    }\n",
       "\n",
       "    .dataframe tbody tr th {\n",
       "        vertical-align: top;\n",
       "    }\n",
       "\n",
       "    .dataframe thead th {\n",
       "        text-align: right;\n",
       "    }\n",
       "</style>\n",
       "<table border=\"1\" class=\"dataframe\">\n",
       "  <thead>\n",
       "    <tr style=\"text-align: right;\">\n",
       "      <th></th>\n",
       "      <th>Text</th>\n",
       "      <th>Language</th>\n",
       "    </tr>\n",
       "  </thead>\n",
       "  <tbody>\n",
       "    <tr>\n",
       "      <th>0</th>\n",
       "      <td>Nature, in the broadest sense, is the natural...</td>\n",
       "      <td>English</td>\n",
       "    </tr>\n",
       "    <tr>\n",
       "      <th>1</th>\n",
       "      <td>\"Nature\" can refer to the phenomena of the phy...</td>\n",
       "      <td>English</td>\n",
       "    </tr>\n",
       "    <tr>\n",
       "      <th>2</th>\n",
       "      <td>The study of nature is a large, if not the onl...</td>\n",
       "      <td>English</td>\n",
       "    </tr>\n",
       "    <tr>\n",
       "      <th>3</th>\n",
       "      <td>Although humans are part of nature, human acti...</td>\n",
       "      <td>English</td>\n",
       "    </tr>\n",
       "    <tr>\n",
       "      <th>4</th>\n",
       "      <td>[1] The word nature is borrowed from the Old F...</td>\n",
       "      <td>English</td>\n",
       "    </tr>\n",
       "  </tbody>\n",
       "</table>\n",
       "</div>"
      ],
      "text/plain": [
       "                                                Text Language\n",
       "0   Nature, in the broadest sense, is the natural...  English\n",
       "1  \"Nature\" can refer to the phenomena of the phy...  English\n",
       "2  The study of nature is a large, if not the onl...  English\n",
       "3  Although humans are part of nature, human acti...  English\n",
       "4  [1] The word nature is borrowed from the Old F...  English"
      ]
     },
     "execution_count": 6,
     "metadata": {},
     "output_type": "execute_result"
    }
   ],
   "source": [
    "df.head()"
   ]
  },
  {
   "cell_type": "code",
   "execution_count": 8,
   "id": "cfb6eafa",
   "metadata": {},
   "outputs": [
    {
     "data": {
      "text/plain": [
       "Text        0\n",
       "Language    0\n",
       "dtype: int64"
      ]
     },
     "execution_count": 8,
     "metadata": {},
     "output_type": "execute_result"
    }
   ],
   "source": [
    "df.isna().sum()"
   ]
  },
  {
   "cell_type": "code",
   "execution_count": 14,
   "id": "b41b066c",
   "metadata": {},
   "outputs": [],
   "source": [
    "lanlist = df[\"Language\"].unique()"
   ]
  },
  {
   "cell_type": "code",
   "execution_count": 17,
   "id": "21d9254d",
   "metadata": {},
   "outputs": [
    {
     "data": {
      "text/plain": [
       "'English'"
      ]
     },
     "execution_count": 17,
     "metadata": {},
     "output_type": "execute_result"
    }
   ],
   "source": [
    "lanlist[0]"
   ]
  },
  {
   "cell_type": "code",
   "execution_count": 22,
   "id": "ebceb2fb",
   "metadata": {},
   "outputs": [
    {
     "name": "stdout",
     "output_type": "stream",
     "text": [
      " Nature, in the broadest sense, is the natural, physical, material world or universe.\n",
      " \n",
      "ഭൗതികപ്രപഞ്ചത്തെ മൊത്തത്തിൽ സൂചിപ്പിക്കുന്ന പദമാണ് പ്രകൃതി (ജർമൻ: Natur, ഫ്രഞ്ച്, ഇംഗ്ലീഷ്: Nature, സ്പാനിഷ്: Naturaleza, പോർച്ചുഗീസ്: Natureza).\n",
      " \n",
      "विकि-शब्दकोष (एक मुक्त शब्दकोष एवं समानांतर कोष) \n",
      " विकिताबें (मुफ़्त क़िताबें और उपयोगी सामग्री) \n",
      " विकिक्वोट (विभिन्न सुभाषितों का संकलन) \n",
      " विकिस्रोत (मुक्त स्त्रोत सामग्री) \n",
      " कॉमंस (विकिमीडिया प्रकल्प का मीडिया फ़ाइल भंडार) \n",
      " विकिसमाचार (मुक्त समाचार) योगदानकर्ताओं के लिए: यह लेख इंटरनेट (इण्टरनेट) विश्वकोश के बारे में बतलाता  है। कि विकिपीडिया के मुख्य पृष्ठ के लिए, विकिपीडिया का मुख्य पृष्ठ देखें। विकिपीडिया के आगंतुक परिचय के लिए, विकिपीडिया के बारे में पृष्ठ देखें। विकिपीडिया  एक मुफ्त,[5] वेब आधारित और सहयोगी बहुभाषी विश्वकोश है, जो गैर-लाभ विकिमीडिया फाउनडेशन से सहयोग प्राप्त परियोजना में उत्पन्न हुआ। इसका नाम दो शब्दों विकी (wiki) (यह सहयोगी वेबसाइटों के निर्माण की एक तकनीक है, यह एक हवाई शब्द विकी है जिसका अर्थ है \"जल्दी\") और एनसाइक्लोपीडिया (encyclopedia) का संयोजन है। \n",
      "दुनिया भर में स्वयंसेवकों के द्वारा सहयोग से विकिपीडिया के 1.3 करोड़ लेख (29 लाख अंग्रेजी विकिपीडिया में) लिखे गए हैं और इसके लगभग सभी लेखों को वह कोई भी व्यक्ति संपादित कर सकता है, जो विकिपीडिया वेबसाईट का उपयोग कर सकता है। [6] इसे जनवरी 2001 में जिम्मी वेल्स और लेरी सेंगर के द्वारा प्रारंभ (प्रारम्भ) किया गया,[7] यह वर्तमान में इंटरनेट (इण्टरनेट) पर सबसे लोकप्रिय संदर्भित कार्य है। \n",
      "[3][8][9][10] विकिपीडिया के आलोचक इसे व्यवस्थित पूर्वाग्रह और असंगतियों को दोषी ठहराते हैं,[11] और आरोप लगते हैं कि यह इसकी सम्पादकीय प्रक्रिया में उपलब्धियों पर सहमति का पक्ष लेती है।[12]\n",
      "[13] विकिपीडिया की विश्वसनीयता और सटीकता भी एक मुद्दा है।[14][15] अन्य आलोचनाओं के अनुसार नकली या असत्यापित जानकारी का समावेश और विध्वंसक प्रवृति भी इसके दोष हैं,[16] हालाँकि विद्वानों के द्वारा किये गए कार्य बताते हैं कि विध्वंसक प्रवृति आमतौर पर अल्पकालिक होती है। \n",
      "[17][18] और एंड्रयू लिह ने ऑनलाइन पत्रकारिता पर पांचवीं अन्तर्राष्ट्रीय संगोष्ठी में,[19] विकिपीडिया के महत्त्व को न केवल एक विश्वकोश के सन्दर्भ में वर्णित किया बल्कि इसे एक बार बार अद्यतन होने वाले समाचार स्रोत के रूप में भी वर्णित किया क्योंकि यह हाल में हुई घटनाओं के बारे में बहुत जल्दी लेख प्रस्तुत करता है। जब टाइम पत्रिका ने यू (You) को वर्ष 2006 के लिए पर्सन ऑफ़ द इयर की मान्यता दी और बताया कि दुनिया भर में कई मिलियन उपयोगकर्ताओं के द्वारा इसका उपयोग किया जाता है और ऑनलाइन सहयोग में इसकी बढ़ती सफलता को मान्यता दी, इसने वेब 2.0 सेवाओ के तीन उदाहरणों में विकिपीडिया को यूट्यूब और माइस्पेस के साथ रखा। \n",
      "[20] विकिपीडिया, न्यूपीडिया (Nupedia) के लिए एक पूरक परियोजना के रूप में शुरू हुई, जो एक मुफ्त ऑनलाइन अंग्रेजी भाषा की विश्वकोश परियोजना है, जिसके लेखों को विशेषज्ञों के द्वारा लिखा गया और एक औपचारिक प्रक्रिया के तहत इसकी समीक्षा की गयी। न्यूपीडिया की स्थापना 9 मार्च 2000 को एक वेब पोर्टल कम्पनी बोमिस, इंक के स्वामित्व के तहत की गयी। इसके मुख्य सदस्य थे, जिम्मी वेल्स, बोमिस CEO और लेरी सेंगर, न्यूपीडिया के एडिटर-इन-चीफ और बाद के विकिपीडिया। \n",
      "प्रारंभ में न्यूपीडिया को इसके अपने न्यूपीडिया ओपन कंटेंट लाइसेंस के तहत लाइसेंस दिया गया और रिचर्ड स्टालमेन के सुझाव पर विकिपीडिया की स्थापना से पहले इसे GNU के मुफ्त डोक्युमेंटेशन लाइसेंस में बदल दिया गया। \n",
      "[21] लैरी सेंगर और जिम्मी वेल्स विकिपीडिया (Wikipedia) के संस्थापक हैं। [22][23] जहाँ एक ओर वेल्स को सार्वजनिक रूप से संपादन योग्य विश्वकोश के निर्माण के उद्देश्य को परिभाषित करने के श्रेय दिया जाता है,[24][25] सेंगर को आमतौर पर इस उद्देश्य को पूरा करने के लिए एक विकी की रणनीति का उपयोग करने का श्रेय दिया जाता है। [26] 10 जनवरी 2001 को, लेरी सेंगर ने न्यूपीडिया के लिए एक \"फीडर परियोजना\" के रूप में एक विकी का निर्माण करने के लिए न्यूपीडिया मेलिंग सूची की प्रस्तावना दी। \n",
      "[27]\n",
      "विकिपीडिया को औपचारिक रूप से 15 जनवरी 2001 को, www.wikipedia.com पर एकमात्र अंग्रेजी भाषा के संस्करण के रूप में शुरू किया गया।[28] ओर इसकी घोषणा न्यूपीडिया मेलिंग सूची पर सेंगर के द्वारा की गयी। \n",
      "[24] विकिपीडिया की \"न्यूट्रल पॉइंट ऑफ़ व्यू\"[29] की नीति को इसके प्रारंभिक महीनों में संकेतबद्ध किया गया, ओर यह न्यूपीडिया की प्रारंभिक \"पक्षपातहीन\" नीति के समान थी। \n",
      "अन्यथा, प्रारंभ में अपेक्षाकृत कम नियम थे और विकिपीडिया न्यूपीडिया से स्वतंत्र रूप से कार्य करती थी। [24] विकिपीडिया ने न्यूपीडिया से प्रारंभिक योगदानकर्ता प्राप्त किये, ये थे स्लेशडॉट पोस्टिंग और सर्च इंजन इंडेक्सिंग। \n",
      "2001 के अंत तक इसके लगभग 20,000 लेख और 18 भाषाओँ के संस्करण हो चुके थे। 2002 के अंत तक इसके 26 भाषाओँ के संस्करण हो गए, 2003 के अंत तक 46 और 2004 के अंतिम दिनों तक 161 भाषाओँ के संस्करण हो गए।[30] न्यूपीडिया और विकिपीडिया तब तक एक साथ उपस्थित थे जब पहले वाले के सर्वर को स्थायी रूप से 2003 में डाउन कर दिया गया और इसके पाठ्य को विकिपीडिया में डाल दिया गया। \n",
      "9 सितम्बर 2007 को अंग्रेजी विकिपीडिया 2 मिलियन लेख की संख्या को पार कर गया, यह तब तक का सबसे बड़ा संकलित विश्वकोश बन गया, यहाँ तक कि इसने योंगल विश्वकोश के रिकॉर्ड (1407) को भी तोड़ दिया, जिसने 600 वर्षों के लिए कायम रखा था। \n",
      "[31] एक कथित अंग्रेजी केन्द्रित विकिपीडिया में नियंत्रण की कमी और वाणिज्यिक विज्ञापन की आशंका से, स्पेनिश विकिपीडिया के उपयोगकर्ता फरवरी 2002 में Enciclopedia Libre के निर्माण के लिए विकिपीडिया से अलग हो गए।[32] बाद में उसी वर्ष, वेल्स ने घोषित किया कि विकिपीडिया विज्ञापनों का प्रदर्शन नहीं करेगा और इसकी वेबसाईट को wikipedia.org में स्थानांतरित कर दिया गया। [33] तब से कई अन्य परियोजनाओं को सम्पादकीय कारणों से विकिपीडिया से अलग किया गया है। विकिइन्फो के लिए किसी उदासीन दृष्टिकोण की आवश्यकता नहीं होती है और यह मूल अनुसंधान की अनुमति देता है। विकिपीडिया से प्रेरित नयी परियोजनाएं-जैसे सिटीजेंडियम (Citizendium), स्कॉलरपीडिया (Scholarpedia), कंजर्वापीडिया (Conservapedia) और गूगल्स नोल (Knol)[कृपया उद्धरण जोड़ें]-विकिपीडिया की कथित सीमाओं को संबोधित करने के लिए शुरू की गयी हैं, जैसे सहकर्मी समीक्षा, मूल अनुसंधान और वाणिज्यिक विज्ञापनपर इसकी नीतियां। विकिपीडिया फाउंडेशन का निर्माण 20 जून 2003 को विकिपीडिया और न्यूपीडिया से किया गया। [34] इसे 17 सितम्बर 2004 को विकिपीडिया को ट्रेडमार्क करने के लिए ट्रेडमार्क कार्यालय और अमेरिकी पेटेंट पर लागू किया गया। \n",
      "इस मार्क को 10 जनवरी 2006 को पंजीकरण का दर्जा दिया गया। 16 दिसम्बर 2004 को जापान के द्वारा ट्रेडमार्क संरक्षण उपलब्ध कराया गया और 20 जनवरी 2005 को यूरोपीय संघ के द्वारा ट्रेडमार्क संरक्षण उपलब्ध कराया गया। तकनीकी रूप से एक सर्विस मार्क, मार्क का स्कोप \"इंटरनेट के माध्यम से आम विश्वकोश के ज्ञान के क्षेत्र में जानकारी के प्रावधान\" के लिए है,[कृपया उद्धरण जोड़ें] कुछ उत्पादों जैसे पुस्तकों और DVDs के लिए विकिपीडिया ट्रेडमार्क के उपयोग को लाइसेंस देने की योजनायें बनायी जा रही हैं। \n",
      "[35] [[चित्र:Wiki feel stupid v2.ogvIMAGE_OPTIONSIn April 2009, the conducted a Wikipedia usability study, questioning users about the editing mechanism.REF START\n",
      "पारंपरिक विश्वकोशों जैसे एन्साइक्लोपीडिया ब्रिटेनिका (Encyclopædia Britannica) के विपरीत, विकिपीडिया के लेख किसी औपचारिक सहकर्मी समीक्षा की प्रक्रिया से होकर नहीं गुजरते हैं और लेख में परिवर्तन तुंरत उपलब्ध हो जाते हैं l\n",
      "किसी भी लेख पर इसके निर्माता या किसी अन्य संपादक का अधिकार नहीं है और न ही किसी मान्यता प्राप्त प्राधिकरण के द्वारा इसका निरीक्षण किया जा सकता है। कुछ ही ऐसे विध्वंस-प्रवण पेज हैं जिन्हें केवल इनके स्थापित उपयोगकर्ताओं के द्वारा ही संपादित किया जा सकता है, या विशेष मामलों में केवल प्रशासकों के द्वारा संपादित किया जा सकता है, हर लेख को गुमनाम रूप में या एक उपयोगकर्ता के अकाउंट के साथ संपादित किया जा सकता है, जबकि केवल पंजीकृत उपयोगकर्ता ही एक नया लेख बना सकते हैं (केवल अंग्रेजी संस्करण में)।\n",
      "इसके परिणामस्वरूप, विकिपीडिया अपने अवयवों \"की वैद्यता की कोई गारंटी नहीं\" देता है। \n",
      "[36] एक सामान्य सन्दर्भ कार्य होने के कारण, विकिपीडिया में कुछ ऐसी सामग्री भी है जिसे विकिपीडिया के संपादकों सहित कुछ लोग[37] आक्रामक, आपत्तिजनक और अश्लील मानते हैं। [38] उदाहरण के लिए, 2008 में, विकिपीडिया, ने इस निति को ध्यान में रखते हुए, अपने अंग्रेजी संस्करण में, मुहम्मद के वर्णन को शामिल करने के खिलाफ एक एक ऑनलाइन याचिका को अस्वीकार कर दिया।\n",
      "विकिपीडिया में राजनीतिक रूप से संवेदनशील सामग्री की उपस्थिति के कारण, पीपुल्स रिपब्लिक ऑफ चाइना ने इस वेबसाइट के कुछ भागों का उपयोग को प्रतिबंधित कर दिया।[39] (यह भी देखें: विकिपीडिया के IWF ब्लॉक) विकिपीडिया के अवयव फ्लोरिडा में कानून के अधीन हैं (विशेष कॉपीराईट कानून में), जहाँ विकिपीडिया के सर्वरों की मेजबानी की जाती है और कई सम्पादकीय नीतियां और दिशानिर्देश इस बात पर बल देते हैं कि विकिपीडिया एक विश्वकोश है। \n",
      "विकिपीडिया में प्रत्येक प्रविष्टि एक विषय के बारे में होनी चाहिए जो विश्वकोश से सम्बंधित है और इस प्रकार से शामिल किये जाने के योग्य है। एक विषय विश्वकोश से सम्बंधित समझा जा सकता है यदि यह विकिपीडिया के शब्दजाल में \"उल्लेखनीय\" है,[40] अर्थात, यदि इसने उन माध्यमिक विश्वसनीय स्रोतों में महत्वपूर्ण कवरेज़ प्राप्त किया है (अर्थात मुख्यधारा मीडिया या मुख्य अकादमिक जर्नल), जो इस विषय के मामले से स्वतंत्र हैं। दूसरा, विकिपीडिया को केवल उसी ज्ञान को प्रदर्शित करना है जो पहले से ही स्थापित और मान्यता प्राप्त है।[41] दूसरे शब्दों में, उदाहरण के लिए इसे नयी जानकारी और मूल कार्य को प्रस्तुत नहीं करना चाहिए। एक दावा जिसे चुनौती दी जा सकती है, उसे विश्वसनीय सूत्रों के सन्दर्भ की आवश्यकता होती है। विकिपीडिया समुदाय के भीतर, इसे अक्सर \"verifiability, not truth\" के रूप में बताया जाता है, यह इस विचार को व्यक्त करता है कि पाठक खुद लेख में प्रस्तुत होने वाली सामग्री की सच्चाई की जांच कर सकें और इस विषय में अपनी खुद की व्याख्या बनायें.\n",
      " \n",
      "விக்கிப்பீடியா (Wikipedia; /ˌwɪkɪˈpiːdiə/ (கேட்க) wik-ih-PEE-dee-ə அல்லது /ˌwɪkiˈpiːdiə/ (கேட்க) wik-ee-PEE-dee-ə) என்பது, வணிக நோக்கற்ற விக்கிமீடியா நிறுவனத்தின் உதவியுடன் நடத்தப்படும், கூட்டாகத் தொகுக்கப்படும், பன்மொழி, கட்டற்ற இணையக் கலைக்களஞ்சியமாகும்.\n",
      " \n",
      "Nature é uma revista científica interdisciplinar britânica, publicada pela primeira vez em 4 de novembro de 1869.\n",
      " \n",
      "Si vous disposez d'ouvrages ou d'articles de référence ou si vous connaissez des sites web de qualité traitant du thème abordé ici, merci de compléter l'article en donnant les références utiles à sa vérifiabilité et en les liant à la section « Notes et références » En pratique : Quelles sources sont attendues ?\n",
      " \n",
      "Nature (Engels voor 'natuur') is een Brits vooral natuurwetenschappelijk tijdschrift.\n",
      " \n",
      "Nature es una de las más prestigiosas revistas científicas a nivel mundial,[1]​ que fue fundada por Joseph Norman Lockyer.\n",
      " \n",
      "Δεν υπάρχει αυτή τη στιγμή  λήμμα με αυτόν τον τίτλο.\n",
      " \n",
      " Nature (в переводе с англ.\n",
      " \n",
      "Nature er et britisk multidisciplinært videnskabeligt tidsskrift, der blev udgivet første gang den 4. november 1869.\n",
      " \n",
      "Nature è una delle più antiche ed importanti riviste scientifiche esistenti, forse in assoluto quella considerata di maggior prestigio nell'ambito della comunità scientifica internazionale (insieme a Science).\n",
      " \n",
      "Nature (Fransızca ve İngilizce: Nature = doğa) Vikipedi, kullanıcıları tarafından ortaklaşa olarak birçok dilde hazırlanan; özgür, bağımsız, ücretsiz, reklamsız, kâr amacı gütmeyen bir internet ansiklopedisi.\n",
      " \n",
      "Nature  är en framstående brittisk vetenskaplig veckotidskrift som började utges 4 november 1869 och grundades av Norman Lockyer.\n",
      " \n",
      "نيتشر (بالإنجليزية: Nature)‏ قد تعني:    تعديل - تعديل مصدري - تعديل ويكي بيانات ويكيبيديا (تلفظ ‎[wi:ki:bi:dija:]‏ وتلحن ‎[wikipi:dia]‏؛ تلفظ بالإنجليزية ‎/ˌwɪkiˈpi:di.ə/‏)[7] والكلمة مشتقة من مقطعين: ويكي wiki وتعني بلغة هاواي \"بالغ السرعة\"، والثاني بيديا pedia ومشتق من كلمة موسوعة encyclopedia، ويكيبيديا هي موسوعة متعددة اللغات، مبنية على الويب، ذات محتوى حر، تشغلها مؤسسة ويكيميديا، التي هي منظمة غير ربحية.\n",
      " \n",
      ".Wir sind alle auf der Suche nach schnellen Wegen, um fließender Englisch zu sprechen.\n",
      " \n",
      ".ನಾವೆಲ್ಲರೂ ಇಂಗ್ಲಿಷ್ನಲ್ಲಿ ಹೆಚ್ಚು ನಿರರ್ಗಳವಾಗಲು ತ್ವರಿತ ಮಾರ್ಗಗಳನ್ನು ಹುಡುಕುತ್ತಿದ್ದೇವೆ, ಏನಾಗುತ್ತದೆ ಎಂದು ನನಗೆ ತಿಳಿದಿದೆ, ನಮ್ಮ ಮೆದುಳನ್ನು ಸುತ್ತುವ ಕೆಲವೇ ಪದಗಳಿವೆ ಮತ್ತು ನಾವು ಈ ಸಂಪೂರ್ಣ ಸಂಭಾಷಣೆಯನ್ನು ಕೇವಲ ಅದ್ಭುತವಾದ ಅದ್ಭುತ ಅಥವಾ ಮಹಾಕಾವ್ಯವನ್ನು ಬಳಸಿ ಮಾಡಬೇಕಾಗಿದೆ ಆದ್ದರಿಂದ ನಾವು ಹೇಗೆ ನಿಮ್ಮ ದೈನಂದಿನ ಜೀವನದಲ್ಲಿ ನೀವು ಬಳಸಬಹುದಾದ ಕೆಲವು ಸ್ಮಾರ್ಟ್ ಹೊಸ ಇಂಗ್ಲಿಷ್ ಪದಗಳನ್ನು ಕಲಿಯಿರಿ ಮತ್ತು ನಿಮಿಷಗಳಲ್ಲಿ ನಿಮ್ಮ ಶಬ್ದಕೋಶವನ್ನು ಹೆಚ್ಚಿಸಿ.\n",
      " \n",
      "\n"
     ]
    }
   ],
   "source": [
    "for l in lanlist:\n",
    "    print(list(df[df[\"Language\"] == l][\"Text\"])[0])\n",
    "    print(\" \")\n",
    "print()"
   ]
  },
  {
   "cell_type": "code",
   "execution_count": null,
   "id": "a0e9fc4d",
   "metadata": {},
   "outputs": [],
   "source": []
  },
  {
   "cell_type": "code",
   "execution_count": 34,
   "id": "6191e796",
   "metadata": {},
   "outputs": [
    {
     "name": "stderr",
     "output_type": "stream",
     "text": [
      "C:\\Users\\dines\\anaconda3\\envs\\mlp\\lib\\site-packages\\seaborn\\_decorators.py:36: FutureWarning: Pass the following variable as a keyword arg: x. From version 0.12, the only valid positional argument will be `data`, and passing other arguments without an explicit keyword will result in an error or misinterpretation.\n",
      "  warnings.warn(\n"
     ]
    },
    {
     "data": {
      "image/png": "[encoded data removed]",
      "text/plain": [
       "<Figure size 1080x360 with 1 Axes>"
      ]
     },
     "metadata": {
      "needs_background": "light"
     },
     "output_type": "display_data"
    }
   ],
   "source": [
    "plt.figure(figsize=(15, 5))\n",
    "plt.xticks([])\n",
    "# plt.yticks([])\n",
    "sns.countplot(df[\"Language\"])\n",
    "plt.show()"
   ]
  },
  {
   "cell_type": "code",
   "execution_count": 43,
   "id": "e71da76e",
   "metadata": {},
   "outputs": [
    {
     "data": {
      "text/plain": [
       "10337"
      ]
     },
     "execution_count": 43,
     "metadata": {},
     "output_type": "execute_result"
    }
   ],
   "source": [
    "len(df)"
   ]
  },
  {
   "cell_type": "code",
   "execution_count": 44,
   "id": "c14637eb",
   "metadata": {},
   "outputs": [
    {
     "data": {
      "text/plain": [
       "English       1385\n",
       "French        1014\n",
       "Spanish        819\n",
       "Portugeese     739\n",
       "Italian        698\n",
       "Russian        692\n",
       "Sweedish       676\n",
       "Malayalam      594\n",
       "Dutch          546\n",
       "Arabic         536\n",
       "Turkish        474\n",
       "German         470\n",
       "Tamil          469\n",
       "Danish         428\n",
       "Kannada        369\n",
       "Greek          365\n",
       "Hindi           63\n",
       "Name: Language, dtype: int64"
      ]
     },
     "execution_count": 44,
     "metadata": {},
     "output_type": "execute_result"
    }
   ],
   "source": [
    "df[\"Language\"].value_counts()"
   ]
  },
  {
   "cell_type": "code",
   "execution_count": 87,
   "id": "403fbd0c",
   "metadata": {},
   "outputs": [],
   "source": [
    "X = df[\"Text\"]\n",
    "y = df[\"Language\"]"
   ]
  },
  {
   "cell_type": "code",
   "execution_count": 88,
   "id": "284f593d",
   "metadata": {},
   "outputs": [],
   "source": [
    "from sklearn.utils import shuffle"
   ]
  },
  {
   "cell_type": "code",
   "execution_count": 89,
   "id": "2f46e170",
   "metadata": {},
   "outputs": [],
   "source": [
    "X, y = shuffle(X, y)"
   ]
  },
  {
   "cell_type": "code",
   "execution_count": 90,
   "id": "9b7a3ce1",
   "metadata": {},
   "outputs": [],
   "source": [
    "text = []\n",
    "for t in X:\n",
    "    t = t.lower()\n",
    "    t = re.sub(r\"[!@#$%^&*()[[]]:;'=-+_*0-9]\", \"\", t)\n",
    "    text.append(t)"
   ]
  },
  {
   "cell_type": "code",
   "execution_count": 91,
   "id": "ee8d7bc3",
   "metadata": {},
   "outputs": [],
   "source": [
    "from sklearn.preprocessing import LabelEncoder"
   ]
  },
  {
   "cell_type": "code",
   "execution_count": 92,
   "id": "d0089fe2",
   "metadata": {},
   "outputs": [],
   "source": [
    "le = LabelEncoder()\n",
    "y = le.fit_transform(y)"
   ]
  },
  {
   "cell_type": "code",
   "execution_count": 93,
   "id": "0c2afced",
   "metadata": {},
   "outputs": [],
   "source": [
    "from sklearn.feature_extraction.text import CountVectorizer"
   ]
  },
  {
   "cell_type": "code",
   "execution_count": 60,
   "id": "25ba9dc4",
   "metadata": {},
   "outputs": [],
   "source": [
    "cv = CountVectorizer()\n",
    "X = cv.fit_transform(text)"
   ]
  },
  {
   "cell_type": "code",
   "execution_count": 53,
   "id": "cc6387bb",
   "metadata": {},
   "outputs": [],
   "source": [
    "from sklearn.model_selection import train_test_split"
   ]
  },
  {
   "cell_type": "code",
   "execution_count": 95,
   "id": "1c26d1a7",
   "metadata": {},
   "outputs": [],
   "source": [
    "X_train, X_test, y_train, y_test = train_test_split(X, y, test_size=0.20,)"
   ]
  },
  {
   "cell_type": "code",
   "execution_count": 96,
   "id": "a5590b73",
   "metadata": {},
   "outputs": [
    {
     "data": {
      "text/plain": [
       "(10337, 67109)"
      ]
     },
     "execution_count": 96,
     "metadata": {},
     "output_type": "execute_result"
    }
   ],
   "source": [
    "X.shape"
   ]
  },
  {
   "cell_type": "code",
   "execution_count": 97,
   "id": "14b24cea",
   "metadata": {},
   "outputs": [
    {
     "data": {
      "text/plain": [
       "(10337,)"
      ]
     },
     "execution_count": 97,
     "metadata": {},
     "output_type": "execute_result"
    }
   ],
   "source": [
    "y.shape"
   ]
  },
  {
   "cell_type": "code",
   "execution_count": 98,
   "id": "8717dace",
   "metadata": {},
   "outputs": [],
   "source": [
    "from sklearn.naive_bayes import MultinomialNB"
   ]
  },
  {
   "cell_type": "code",
   "execution_count": 99,
   "id": "bc78d937",
   "metadata": {},
   "outputs": [
    {
     "data": {
      "text/plain": [
       "MultinomialNB()"
      ]
     },
     "execution_count": 99,
     "metadata": {},
     "output_type": "execute_result"
    }
   ],
   "source": [
    "mnb = MultinomialNB()\n",
    "mnb.fit(X_train, y_train)"
   ]
  },
  {
   "cell_type": "code",
   "execution_count": 100,
   "id": "13eee240",
   "metadata": {},
   "outputs": [],
   "source": [
    "pred = mnb.predict(X_test)"
   ]
  },
  {
   "cell_type": "code",
   "execution_count": 102,
   "id": "63c388e4",
   "metadata": {},
   "outputs": [
    {
     "data": {
      "text/plain": [
       "array([ 3,  3, 14, ...,  3,  4,  6])"
      ]
     },
     "execution_count": 102,
     "metadata": {},
     "output_type": "execute_result"
    }
   ],
   "source": [
    "pred"
   ]
  },
  {
   "cell_type": "code",
   "execution_count": 101,
   "id": "3ca28ca1",
   "metadata": {},
   "outputs": [
    {
     "data": {
      "text/plain": [
       "array([ 3,  1, 14, ...,  2,  4,  6])"
      ]
     },
     "execution_count": 101,
     "metadata": {},
     "output_type": "execute_result"
    }
   ],
   "source": [
    "y_test"
   ]
  },
  {
   "cell_type": "code",
   "execution_count": 103,
   "id": "7578336d",
   "metadata": {},
   "outputs": [],
   "source": [
    "from sklearn.metrics import accuracy_score, confusion_matrix"
   ]
  },
  {
   "cell_type": "code",
   "execution_count": 104,
   "id": "6d8441a0",
   "metadata": {},
   "outputs": [
    {
     "data": {
      "text/plain": [
       "0.8389748549323017"
      ]
     },
     "execution_count": 104,
     "metadata": {},
     "output_type": "execute_result"
    }
   ],
   "source": [
    "accuracy_score(pred, y_test)"
   ]
  },
  {
   "cell_type": "code",
   "execution_count": 105,
   "id": "949e985d",
   "metadata": {},
   "outputs": [],
   "source": [
    "score = confusion_matrix(pred, y_test)"
   ]
  },
  {
   "cell_type": "code",
   "execution_count": 106,
   "id": "d6634069",
   "metadata": {},
   "outputs": [
    {
     "data": {
      "image/png": "[encoded data removed]",
      "text/plain": [
       "<Figure size 864x864 with 2 Axes>"
      ]
     },
     "metadata": {
      "needs_background": "light"
     },
     "output_type": "display_data"
    }
   ],
   "source": [
    "plt.figure(figsize=(12, 12))\n",
    "sns.heatmap(score, annot=True)\n",
    "plt.show()"
   ]
  },
  {
   "cell_type": "code",
   "execution_count": null,
   "id": "e6cac9b7",
   "metadata": {},
   "outputs": [],
   "source": []
  },
  {
   "cell_type": "code",
   "execution_count": 77,
   "id": "f788272d",
   "metadata": {},
   "outputs": [
    {
     "data": {
      "text/plain": [
       "array(['English', 'Malayalam', 'Hindi', 'Tamil', 'Portugeese', 'French',\n",
       "       'Dutch', 'Spanish', 'Greek', 'Russian', 'Danish', 'Italian',\n",
       "       'Turkish', 'Sweedish', 'Arabic', 'German', 'Kannada'], dtype=object)"
      ]
     },
     "execution_count": 77,
     "metadata": {},
     "output_type": "execute_result"
    }
   ],
   "source": [
    "df[\"Language\"].unique()"
   ]
  },
  {
   "cell_type": "code",
   "execution_count": 107,
   "id": "6f0be569",
   "metadata": {},
   "outputs": [],
   "source": [
    "texts = [\"Hi there how are you\", \"ഞാൻ മലയാളികളെ സ്നേഹിക്കുന്നു.\", \"इस पृष्ठ पर इन्टरनेट पर उपलब्ध विभिन्न हिन्दी एवं देवनागरी सम्बंधित साधनों की कड़ियों की सूची है। इसमें ऑनलाइन एवं ऑफ़लाइन उपकरण (टूल्स) शामिल हैं।\"\n",
    "        \"உறுப்புரை 1 மனிதப் பிறிவியினர் சகலரும் சுதந்திரமாகவே பிறக்கின்றனர்;\", \"O meu nome é or Me chamo….\"]"
   ]
  },
  {
   "cell_type": "code",
   "execution_count": 110,
   "id": "8bae6edc",
   "metadata": {},
   "outputs": [
    {
     "name": "stdout",
     "output_type": "stream",
     "text": [
      "['English']\n",
      "['Malayalam']\n",
      "['Tamil']\n",
      "['Portugeese']\n"
     ]
    }
   ],
   "source": [
    "for t in texts:\n",
    "    print(le.inverse_transform(mnb.predict(cv.transform([t]))))"
   ]
  },
  {
   "cell_type": "markdown",
   "id": "b04f6cc5",
   "metadata": {},
   "source": [
    "# TFIDF"
   ]
  },
  {
   "cell_type": "code",
   "execution_count": 85,
   "id": "58bc5f63",
   "metadata": {},
   "outputs": [],
   "source": [
    "from sklearn.feature_extraction.text import TfidfVectorizer"
   ]
  },
  {
   "cell_type": "code",
   "execution_count": 94,
   "id": "9344a9a5",
   "metadata": {},
   "outputs": [],
   "source": [
    "tfidf = TfidfVectorizer(ngram_range=(1, 3), analyzer=\"char\")\n",
    "X = tfidf.fit_transform(text)"
   ]
  },
  {
   "cell_type": "code",
   "execution_count": null,
   "id": "8a3ca723",
   "metadata": {},
   "outputs": [],
   "source": [
    "for t in texts:\n",
    "    print(le.inverse_transform(mnb.predict(tfidf.transform([t]))))"
   ]
  }
 ],
 "metadata": {
  "kernelspec": {
   "display_name": "Python 3 (ipykernel)",
   "language": "python",
   "name": "python3"
  },
  "language_info": {
   "codemirror_mode": {
    "name": "ipython",
    "version": 3
   },
   "file_extension": ".py",
   "mimetype": "text/x-python",
   "name": "python",
   "nbconvert_exporter": "python",
   "pygments_lexer": "ipython3",
   "version": "3.9.7"
  }
 },
 "nbformat": 4,
 "nbformat_minor": 5
}
